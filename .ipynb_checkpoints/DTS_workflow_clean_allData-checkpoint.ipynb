{
 "cells": [
  {
   "cell_type": "code",
   "execution_count": 1,
   "id": "e337cd1a",
   "metadata": {},
   "outputs": [],
   "source": [
    "import os\n",
    "\n",
    "from dtscalibration import read_silixa_files\n",
    "import matplotlib.pyplot as plt\n",
    "import warnings\n",
    "\n",
    "from dtscalibration import read_silixa_files\n",
    "\n",
    "from dtscalibration.datastore_utils import suggest_cable_shift_double_ended, shift_double_ended\n",
    "import numpy as np\n",
    "\n",
    "%matplotlib notebook\n",
    "\n",
    "\n",
    "warnings.simplefilter(\"ignore\")  # Hide warnings to avoid clutter in the notebook"
   ]
  },
  {
   "cell_type": "code",
   "execution_count": 2,
   "id": "2346245a",
   "metadata": {},
   "outputs": [
    {
     "name": "stdout",
     "output_type": "stream",
     "text": [
      "64 files were found, each representing a single timestep\n",
      "6 recorded vars were found: LAF, ST, AST, REV-ST, REV-AST, TMP\n",
      "Recorded at 3537 points along the cable\n",
      "The measurement is double ended\n",
      "Reading the data from disk\n"
     ]
    }
   ],
   "source": [
    "filepath = 'Antarctica_5min/'\n",
    "\n",
    "ds_ = read_silixa_files(\n",
    "    directory=filepath,\n",
    "    timezone_netcdf='UTC',\n",
    "    file_ext='*.xml')\n",
    "\n",
    "ds = ds_.sel(x=slice(-27,650.8))# only calibrate parts of the fiber"
   ]
  },
  {
   "cell_type": "code",
   "execution_count": null,
   "id": "d09c81f0",
   "metadata": {},
   "outputs": [],
   "source": [
    "suggested_shift = suggest_cable_shift_double_ended(\n",
    "    ds,\n",
    "    np.arange(-5, 5),\n",
    "    plot_result=True,\n",
    "    figsize=(12,8))\n",
    "\n",
    "ds_restored = shift_double_ended(ds, suggested_shift[0])\n",
    "\n",
    "print(ds.x, 3*'\\n', ds_restored.x)\n"
   ]
  }
 ],
 "metadata": {
  "kernelspec": {
   "display_name": "Python 3 (ipykernel)",
   "language": "python",
   "name": "python3"
  },
  "language_info": {
   "codemirror_mode": {
    "name": "ipython",
    "version": 3
   },
   "file_extension": ".py",
   "mimetype": "text/x-python",
   "name": "python",
   "nbconvert_exporter": "python",
   "pygments_lexer": "ipython3",
   "version": "3.7.12"
  }
 },
 "nbformat": 4,
 "nbformat_minor": 5
}
